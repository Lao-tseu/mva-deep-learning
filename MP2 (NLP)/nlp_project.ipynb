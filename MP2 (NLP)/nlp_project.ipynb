{
 "cells": [
  {
   "cell_type": "markdown",
   "metadata": {},
   "source": [
    "# Deep Learning for NLP - Project"
   ]
  },
  {
   "cell_type": "markdown",
   "metadata": {},
   "source": [
    "RULES:\n",
    "\n",
    "* Do not create any additional cell\n",
    "\n",
    "* Fill in the blanks\n",
    "\n",
    "* All cells should be runnable (modulo trivial compatibility bugs that we'd fix)\n",
    "\n",
    "* 4 / 20 points will be allocated to the clarity of your code\n",
    "\n",
    "* Efficient code will have a bonus\n",
    "\n",
    "DELIVERABLE:\n",
    "\n",
    "* this notebook\n",
    "* the predictions of the SST test set\n",
    "\n",
    "DO NOT INCLUDE THE DATASETS IN THE DELIVERABLE.."
   ]
  },
  {
   "cell_type": "code",
   "execution_count": 1,
   "metadata": {
    "collapsed": false
   },
   "outputs": [],
   "source": [
    "import io\n",
    "import os\n",
    "import numpy as np\n",
    "import scipy.linalg"
   ]
  },
  {
   "cell_type": "code",
   "execution_count": 2,
   "metadata": {
    "collapsed": true
   },
   "outputs": [],
   "source": [
    "PATH_TO_DATA = \"data/\""
   ]
  },
  {
   "cell_type": "markdown",
   "metadata": {},
   "source": [
    "# 1) Monolingual (English) word embeddings "
   ]
  },
  {
   "cell_type": "code",
   "execution_count": 3,
   "metadata": {
    "collapsed": true
   },
   "outputs": [],
   "source": [
    "class Word2vec():\n",
    "    def __init__(self, fname, nmax=100000):\n",
    "        self.load_wordvec(fname, nmax)\n",
    "        self.word2id = {k: i for i, k in enumerate(self.word2vec.keys())}\n",
    "        self.id2word = {v: k for k, v in self.word2id.items()}\n",
    "        self.embeddings = np.array(list(self.word2vec.values()))\n",
    "    \n",
    "    def load_wordvec(self, fname, nmax):\n",
    "        self.word2vec = {}\n",
    "        with io.open(fname, encoding='utf-8') as f:\n",
    "            next(f)\n",
    "            for i, line in enumerate(f):\n",
    "                word, vec = line.split(' ', 1)\n",
    "                self.word2vec[word] = np.fromstring(vec, sep=' ')\n",
    "                if i == (nmax - 1):\n",
    "                    break\n",
    "        print('Loaded %s pretrained word vectors' % (len(self.word2vec)))\n",
    "\n",
    "    def most_similar(self, w, K=5):\n",
    "        # K most similar words: self.score  -  np.argsort\n",
    "        # Check if the word is in the dictionary\n",
    "        if w not in self.word2vec.keys():\n",
    "            print(\"Word {} not in vocabulary\".format(w))\n",
    "            return []\n",
    "        # Compute the score of each word\n",
    "        scores = [self.score(w, w1) for w1 in self.word2vec.keys()]\n",
    "        # Get the K best word\n",
    "        K_best = np.argsort(scores)[-5:][::-1]\n",
    "        return [self.id2word[k] for k in K_best]\n",
    "\n",
    "    def score(self, w1, w2):\n",
    "        # cosine similarity: np.dot  -  np.linalg.norm\n",
    "        # Check if we know the word\n",
    "        if w1 not in self.word2vec.keys():\n",
    "            print(\"Word {} not in vocabulary\".format(w1))\n",
    "            return 0\n",
    "        elif w2 not in self.word2vec.keys():\n",
    "            print(\"Word {} not in vocabulary\".format(w2))\n",
    "            return 0\n",
    "        else:\n",
    "            # Compute the word norms and their cosine distance\n",
    "            n1, n2 = np.linalg.norm(self.word2vec[w1]), np.linalg.norm(self.word2vec[w2])\n",
    "            return np.dot(self.word2vec[w1], self.word2vec[w2]) / (n1 * n2)"
   ]
  },
  {
   "cell_type": "code",
   "execution_count": 4,
   "metadata": {
    "collapsed": false
   },
   "outputs": [
    {
     "name": "stdout",
     "output_type": "stream",
     "text": [
      "Loaded 100000 pretrained word vectors\n",
      "cat dog 0.671683666279249\n",
      "dog pet 0.6842064029669219\n",
      "dogs cats 0.7074389328052404\n",
      "paris france 0.7775108541288563\n",
      "germany berlin 0.7420295235998394\n",
      "['cat', 'cats', 'kitty', 'kitten', 'feline']\n",
      "['dog', 'dogs', 'puppy', 'Dog', 'doggie']\n",
      "['dogs', 'dog', 'pooches', 'Dogs', 'doggies']\n",
      "['paris', 'france', 'Paris', 'london', 'berlin']\n",
      "['germany', 'austria', 'europe', 'german', 'berlin']\n"
     ]
    }
   ],
   "source": [
    "w2v = Word2vec(os.path.join(PATH_TO_DATA, 'crawl-300d-200k.vec'), nmax=100000) # 25000\n",
    "\n",
    "#################################################\n",
    "# REMARK : we had to augment the number of words\n",
    "#          in order to get paris and germany,\n",
    "#          which were above 25k, and under 100k\n",
    "#################################################\n",
    "\n",
    "# You will be evaluated on the output of the following:\n",
    "for w1, w2 in zip(('cat', 'dog', 'dogs', 'paris', 'germany'), ('dog', 'pet', 'cats', 'france', 'berlin')):\n",
    "    print(w1, w2, w2v.score(w1, w2))\n",
    "for w1 in ['cat', 'dog', 'dogs', 'paris', 'germany']:\n",
    "    print(w2v.most_similar(w1))"
   ]
  },
  {
   "cell_type": "code",
   "execution_count": 5,
   "metadata": {
    "collapsed": false
   },
   "outputs": [],
   "source": [
    "class BoV():\n",
    "    def __init__(self, w2v):\n",
    "        self.w2v = w2v\n",
    "    \n",
    "    def encode(self, sentences, idf=False):\n",
    "        # takes a list of sentences, outputs a numpy array of sentence embeddings\n",
    "        # see TP1 for help\n",
    "        sentemb = []\n",
    "        for sent in sentences:\n",
    "            words = sent.split(' ')\n",
    "            if idf is False:\n",
    "                # mean of word vectors\n",
    "                # Retrieve the word embeddings\n",
    "                vectors = [self.w2v.word2vec[w] for w in words if w in w2v.word2vec]\n",
    "                # If there is none\n",
    "                if len(vectors) == 0:\n",
    "                    sentemb.append(np.zeros_like(list(w2v.word2vec.values())[0]))\n",
    "                else:\n",
    "                    sentemb.append(np.mean(vectors, axis=0))\n",
    "            else:\n",
    "                # idf-weighted mean of word vectors\n",
    "                weighted_vectors = [self.w2v.word2vec[w]*idf[w] for w in words if w in w2v.word2vec]\n",
    "                if len(weighted_vectors) == 0:\n",
    "                    sentemb.append(np.zeros_like(list(w2v.word2vec.values())[0]))\n",
    "                else:\n",
    "                    sentemb.append(np.mean(weighted_vectors, axis=0))\n",
    "        return np.vstack(sentemb)\n",
    "\n",
    "    def most_similar(self, s, sentences, idf=False, K=5):\n",
    "        # get most similar sentences and **print** them\n",
    "        # Compute the score of each sentence\n",
    "        scores = [self.score(s, s1, idf) for s1 in sentences]\n",
    "        # Get the K best sentences\n",
    "        K_best = np.argsort(scores)[-5:]\n",
    "        for rank, k in enumerate(reversed(K_best)):\n",
    "            print(str(rank+1) + \" : \" + sentences[k][:-2])\n",
    "        return\n",
    "\n",
    "    def score(self, s1, s2, idf=False):\n",
    "        # cosine similarity: use   np.dot  and  np.linalg.norm\n",
    "        # Encode both sentences :\n",
    "        e1 = self.encode([s1], idf)\n",
    "        e2 = self.encode([s2], idf)\n",
    "        # Compute their norms :\n",
    "        n1, n2 = np.linalg.norm(e1), np.linalg.norm(e2)\n",
    "        if n1 == 0 or n2 == 0:\n",
    "            return 0\n",
    "        else:\n",
    "            # Return cosine distance\n",
    "            return e1[0].dot(e2[0]) / (n1 * n2)\n",
    "    \n",
    "    def build_idf(self, sentences):\n",
    "        # build the idf dictionary: associate each word to its idf value\n",
    "        idf = {}\n",
    "        for sent in sentences:\n",
    "            for w in set(sent.split(' ')):\n",
    "                idf[w] = idf.get(w, 0) + 1\n",
    "        for w in idf.keys():\n",
    "            idf[w] = max(1, np.log10(len(sentences) / (idf[w])))\n",
    "        return idf"
   ]
  },
  {
   "cell_type": "code",
   "execution_count": 6,
   "metadata": {
    "collapsed": false
   },
   "outputs": [
    {
     "name": "stdout",
     "output_type": "stream",
     "text": [
      "Loaded 5000 pretrained word vectors\n",
      "Without IDF, sentence : 1 smiling african american boy . \n",
      "\n",
      "1 : 1 smiling african american boy .\n",
      "2 : blond boy waterskiing .\n",
      "3 : a boy jumps .\n",
      "4 : a boy jumps .\n",
      "5 : a boy smiles underwater .\n",
      "0.6089445116147133\n",
      "With IDF, sentence : 1 smiling african american boy . \n",
      "\n",
      "1 : 1 smiling african american boy .\n",
      "2 : 5 women and 1 man are smiling for the camera .\n",
      "3 : a man rides a 4 wheeler in the desert .\n",
      "4 : 3 males and 1 woman enjoying a sporting event\n",
      "5 : a man in black is juggling 3 flamed bottles .\n",
      "0.5963335652885751\n"
     ]
    }
   ],
   "source": [
    "w2v = Word2vec(os.path.join(PATH_TO_DATA, 'crawl-300d-200k.vec'), nmax=5000)\n",
    "s2v = BoV(w2v)\n",
    "\n",
    "# Load sentences in \"PATH_TO_DATA/sentences.txt\"\n",
    "f = open(os.path.join(PATH_TO_DATA, 'sentences.txt'))\n",
    "sentences = f.readlines()\n",
    "f.close()\n",
    "\n",
    "# Build idf scores for each word\n",
    "idf = s2v.build_idf(sentences)\n",
    "\n",
    "# You will be evaluated on the output of the following:\n",
    "print(\"Without IDF, sentence : {}\".format(sentences[10]))\n",
    "s2v.most_similar('' if not sentences else sentences[10], sentences)  # BoV-mean\n",
    "print(s2v.score('' if not sentences else sentences[7], '' if not sentences else sentences[13]))\n",
    "\n",
    "print(\"With IDF, sentence : {}\".format(sentences[10]))\n",
    "s2v.most_similar('' if not sentences else sentences[10], sentences, idf)  # BoV-idf\n",
    "print(s2v.score('' if not sentences else sentences[7], '' if not sentences else sentences[13], idf))"
   ]
  },
  {
   "cell_type": "markdown",
   "metadata": {},
   "source": [
    "# 2) Multilingual (English-French) word embeddings"
   ]
  },
  {
   "cell_type": "markdown",
   "metadata": {},
   "source": [
    "Let's consider a bilingual dictionary of size V_a (e.g French-English).\n",
    "\n",
    "Let's define **X** and **Y** the **French** and **English** matrices.\n",
    "\n",
    "They contain the embeddings associated to the words in the bilingual dictionary.\n",
    "\n",
    "We want to find a **mapping W** that will project the source word space (e.g French) to the target word space (e.g English).\n",
    "\n",
    "Procrustes : **W\\* = argmin || W.X - Y ||  s.t  W^T.W = Id**\n",
    "has a closed form solution:\n",
    "**W = U.V^T  where  U.Sig.V^T = SVD(Y.X^T)**\n",
    "\n",
    "In what follows, you are asked to: "
   ]
  },
  {
   "cell_type": "code",
   "execution_count": 7,
   "metadata": {
    "collapsed": true
   },
   "outputs": [
    {
     "name": "stdout",
     "output_type": "stream",
     "text": [
      "Loaded 50000 pretrained word vectors\n",
      "Loaded 50000 pretrained word vectors\n"
     ]
    }
   ],
   "source": [
    "# 1 - Download and load 50k first vectors of\n",
    "#     https://s3-us-west-1.amazonaws.com/fasttext-vectors/wiki.en.vec\n",
    "#     https://s3-us-west-1.amazonaws.com/fasttext-vectors/wiki.fr.vec\n",
    "\n",
    "# TYPE CODE HERE\n",
    "w2v_en = Word2vec(os.path.join(PATH_TO_DATA, 'wiki.en.vec'), nmax=50000)\n",
    "w2v_fr = Word2vec(os.path.join(PATH_TO_DATA, 'wiki.fr.vec'), nmax=50000)"
   ]
  },
  {
   "cell_type": "code",
   "execution_count": 8,
   "metadata": {
    "collapsed": true
   },
   "outputs": [],
   "source": [
    "# 2 - Get words that appear in both vocabs (= identical character strings)\n",
    "#     Use it to create the matrix X and Y (of aligned embeddings for these words)\n",
    "\n",
    "# TYPE CODE HERE\n",
    "common_words = [w for w in w2v_en.word2vec.keys() if w in w2v_fr.word2vec.keys()]\n",
    "X = np.concatenate([w2v_en.word2vec[w][None] for w in common_words], axis=0).T # X is english\n",
    "Y = np.concatenate([w2v_fr.word2vec[w][None] for w in common_words], axis=0).T # Y is french"
   ]
  },
  {
   "cell_type": "code",
   "execution_count": 9,
   "metadata": {},
   "outputs": [],
   "source": [
    "# 3 - Solve the Procrustes using the scipy package and: scipy.linalg.svd() and get the optimal W\n",
    "#     Now W*French_vector is in the same space as English_vector\n",
    "\n",
    "# TYPE CODE HERE\n",
    "Z = Y.dot(X.T)\n",
    "svd = scipy.linalg.svd(Z)\n",
    "U, S, Vh = svd\n",
    "W = U.dot(Vh)"
   ]
  },
  {
   "cell_type": "code",
   "execution_count": 10,
   "metadata": {},
   "outputs": [
    {
     "name": "stdout",
     "output_type": "stream",
     "text": [
      "French to English :\n",
      "maison house\n",
      "mois months\n",
      "soir evening\n",
      "voiture car\n",
      "je s/he\n",
      "félin feline\n",
      "sentir perceive\n",
      "\n",
      "English to French :\n",
      "pants pantalons\n",
      "month mois\n",
      "immediate immédiat\n",
      "puppet marionnette\n",
      "tortoise tortue\n",
      "hypothetical hypothétique\n"
     ]
    }
   ],
   "source": [
    "# 4 - After alignment with W, give examples of English nearest neighbors of some French words (and vice versa)\n",
    "#     You will be evaluated on that part and the code above\n",
    "\n",
    "# TYPE CODE HERE\n",
    "def score(v1, v2):\n",
    "    n1, n2 = np.linalg.norm(v1), np.linalg.norm(v2)\n",
    "    if n1 == 0 or n2 == 0:\n",
    "        return 0\n",
    "    else:\n",
    "        return v1.dot(v2) / (n1*n2)\n",
    "    \n",
    "def most_similar_word(w1, w2v_1, w2v_2, embedding):\n",
    "    vec_1 = w2v_1.word2vec[w1]\n",
    "    vec_2 = embedding.dot(vec_1)\n",
    "    scores = [score(vec_2, w2v_2.embeddings[k, :]) for k in range(w2v_2.embeddings.shape[0])]\n",
    "    best = np.argmax(scores)\n",
    "    return w2v_2.id2word[best]\n",
    "\n",
    "print(\"French to English :\")\n",
    "for w in [\"maison\", \"mois\", \"soir\", \"voiture\", \"je\", \"félin\", \"sentir\"]:\n",
    "    w2 = most_similar_word(w, w2v_fr, w2v_en, W.T)\n",
    "    print(w, w2)\n",
    "    \n",
    "print(\"\\nEnglish to French :\")\n",
    "for w in [\"pants\", \"month\", \"immediate\", \"puppet\", \"tortoise\", \"hypothetical\"]:\n",
    "    w2 = most_similar_word(w, w2v_en, w2v_fr, W)\n",
    "    print(w, w2)"
   ]
  },
  {
   "cell_type": "markdown",
   "metadata": {},
   "source": [
    "If you want to dive deeper on this subject: https://github.com/facebookresearch/MUSE"
   ]
  },
  {
   "cell_type": "markdown",
   "metadata": {},
   "source": [
    "# 3) Sentence classification with BoV and scikit-learn"
   ]
  },
  {
   "cell_type": "code",
   "execution_count": 11,
   "metadata": {
    "collapsed": true
   },
   "outputs": [],
   "source": [
    "# 1 - Load train/dev/test of Stanford Sentiment TreeBank (SST)\n",
    "#     (https://nlp.stanford.edu/~socherr/EMNLP2013_RNTN.pdf)\n",
    "\n",
    "# TYPE CODE HERE\n",
    "def read_raw(raw):\n",
    "    sentences = []\n",
    "    labels = []\n",
    "    for line in raw:\n",
    "        label, sentence = line.split(\" \", 1)\n",
    "        sentences.append(sentence)\n",
    "        labels.append(int(label))\n",
    "    return sentences, labels\n",
    "\n",
    "f = open(os.path.join(PATH_TO_DATA, 'SST/stsa.fine.train'))\n",
    "sst_train_raw = f.readlines()\n",
    "f.close()\n",
    "f = open(os.path.join(PATH_TO_DATA, 'SST/stsa.fine.dev'))\n",
    "sst_dev_raw = f.readlines()\n",
    "f.close()\n",
    "f = open(os.path.join(PATH_TO_DATA, 'SST/stsa.fine.test.X'))\n",
    "sst_test = f.readlines()\n",
    "f.close()\n",
    "\n",
    "sst_train, label_train = read_raw(sst_train_raw)\n",
    "sst_dev, label_dev = read_raw(sst_dev_raw)"
   ]
  },
  {
   "cell_type": "code",
   "execution_count": 12,
   "metadata": {
    "collapsed": true
   },
   "outputs": [
    {
     "name": "stdout",
     "output_type": "stream",
     "text": [
      "Loaded 50000 pretrained word vectors\n"
     ]
    }
   ],
   "source": [
    "# 2 - Encode sentences with the BoV model above\n",
    "\n",
    "# TYPE CODE HERE\n",
    "w2v = Word2vec(os.path.join(PATH_TO_DATA, 'crawl-300d-200k.vec'), nmax=50000)\n",
    "s2v = BoV(w2v)\n",
    "idf_sst = s2v.build_idf(sst_train + sst_dev + sst_test)\n",
    "bov_train_idf = s2v.encode(sst_train, idf_sst)\n",
    "bov_dev_idf = s2v.encode(sst_dev, idf_sst)\n",
    "bov_test_idf = s2v.encode(sst_test, idf_sst)\n",
    "bov_train_mean = s2v.encode(sst_train, idf=False)\n",
    "bov_dev_mean = s2v.encode(sst_dev, idf=False)\n",
    "bov_test_mean = s2v.encode(sst_test, idf=False)"
   ]
  },
  {
   "cell_type": "code",
   "execution_count": 16,
   "metadata": {},
   "outputs": [
    {
     "name": "stdout",
     "output_type": "stream",
     "text": [
      "Best BoV-mean accuracy : 0.4187102633969119\n",
      "Best BoV-idf accuracy : 0.39872842870118075\n"
     ]
    },
    {
     "data": {
      "image/png": "[encoded data removed]",
      "text/plain": [
       "<Figure size 432x288 with 1 Axes>"
      ]
     },
     "metadata": {
      "needs_background": "light"
     },
     "output_type": "display_data"
    }
   ],
   "source": [
    "##### 3 - Learn Logistic Regression on top of sentence embeddings using scikit-learn\n",
    "#     (consider tuning the L2 regularization on the dev set)\n",
    "\n",
    "# TYPE CODE HERE\n",
    "from sklearn.linear_model import LogisticRegression\n",
    "import matplotlib.pyplot as plt\n",
    "\n",
    "# Parameter selection without idf\n",
    "Cs = np.linspace(1e-3, 8, 10)\n",
    "accuracy_mean = []\n",
    "for C in Cs:\n",
    "    classifier = LogisticRegression(penalty=\"l2\", C=C, solver=\"liblinear\", multi_class='ovr', tol=1e-6)\n",
    "    classifier.fit(bov_train_mean, label_train)\n",
    "    prediction = classifier.predict(bov_dev_mean)\n",
    "    accuracy = np.mean(prediction == label_dev)\n",
    "    accuracy_mean.append(accuracy)\n",
    "\n",
    "# Parameter selection with idf\n",
    "accuracy_idf = []\n",
    "for C in Cs:\n",
    "    classifier = LogisticRegression(penalty=\"l2\", C=C, solver=\"liblinear\", multi_class='ovr', tol=1e-6)\n",
    "    classifier.fit(bov_train_idf, label_train)\n",
    "    prediction = classifier.predict(bov_dev_idf)\n",
    "    accuracy = np.mean(prediction == label_dev)\n",
    "    accuracy_idf.append(accuracy)\n",
    "\n",
    "C_mean = Cs[np.argmax(accuracy_mean)]\n",
    "C_idf = Cs[np.argmax(accuracy_mean)]\n",
    "\n",
    "print(\"Best BoV-mean accuracy : {}\".format(max(accuracy_mean)))\n",
    "print(\"Best BoV-idf accuracy : {}\".format(max(accuracy_idf)))\n",
    "plt.plot(accuracy_mean, label=\"BoV-mean\")\n",
    "plt.plot(accuracy_idf, label=\"BoV-idf\")\n",
    "plt.xlabel(\"Regularization parameter\", fontsize=12)\n",
    "plt.ylabel(\"Dev prediction accuracy\", fontsize=12)\n",
    "plt.legend()\n",
    "plt.show()"
   ]
  },
  {
   "cell_type": "code",
   "execution_count": 17,
   "metadata": {
    "collapsed": true
   },
   "outputs": [],
   "source": [
    "# 4 - Produce 2210 predictions for the test set (in the same order). One line = one prediction (=0,1,2,3,4).\n",
    "#     Attach the output file \"logreg_bov_y_test_sst.txt\" to your deliverable.\n",
    "#     You will be evaluated on the results of the test set.\n",
    "\n",
    "# TYPE CODE HERE\n",
    "best_classifier = LogisticRegression(penalty=\"l2\", C=C_mean, solver=\"liblinear\", multi_class='ovr', tol=1e-6)\n",
    "best_classifier.fit(bov_train_mean, label_train)\n",
    "prediction_test = best_classifier.predict(bov_test_mean)\n",
    "text_to_write = \"\\n\".join(prediction_test.astype(str))\n",
    "f = open(\"logreg_bov_y_test_sst.txt\", \"w\")\n",
    "f.write(text_to_write)\n",
    "f.close()"
   ]
  },
  {
   "cell_type": "code",
   "execution_count": 23,
   "metadata": {
    "collapsed": true
   },
   "outputs": [
    {
     "name": "stdout",
     "output_type": "stream",
     "text": [
      "XGBoost bov-mean accuracy : 0.4187102633969119\n",
      "XGBoost bov-idf accuracy : 0.3923705722070845\n"
     ]
    }
   ],
   "source": [
    "# BONUS!\n",
    "# 5 - Try to improve performance with another classifier\n",
    "#     Attach the output file \"XXX_bov_y_test_sst.txt\" to your deliverable (where XXX = the name of the classifier)\n",
    "\n",
    "# TYPE CODE HERE\n",
    "import xgboost as xgb\n",
    "\n",
    "classifier_xgb_mean = xgb.XGBClassifier(max_depth=3, n_estimators=300, learning_rate=0.05, n_jobs=4)\n",
    "classifier_xgb_mean.fit(bov_train_mean, label_train)\n",
    "prediction_mean = classifier_xgb_mean.predict(bov_dev_mean)\n",
    "accuracy_mean = np.mean(prediction_mean == label_dev)\n",
    "print(\"XGBoost bov-mean accuracy : {}\".format(accuracy_mean))\n",
    "\n",
    "classifier_xgb_idf = xgb.XGBClassifier(max_depth=3, n_estimators=300, learning_rate=0.05, n_jobs=4)\n",
    "classifier_xgb_idf.fit(bov_train_idf, label_train)\n",
    "prediction_idf = classifier_xgb_idf.predict(bov_dev_idf)\n",
    "accuracy_idf = np.mean(prediction_idf == label_dev)\n",
    "print(\"XGBoost bov-idf accuracy : {}\".format(accuracy_idf))\n",
    "\n",
    "# We take bov-mean, which is better\n",
    "prediction_test = classifier_xgb_mean.predict(bov_test_mean)\n",
    "text_to_write = \"\\n\".join(prediction_test.astype(str))\n",
    "f = open(\"xgb_bov_y_test_sst.txt\", \"w\")\n",
    "f.write(text_to_write)\n",
    "f.close()"
   ]
  },
  {
   "cell_type": "markdown",
   "metadata": {},
   "source": [
    "# 4) Sentence classification with LSTMs in Keras"
   ]
  },
  {
   "cell_type": "markdown",
   "metadata": {},
   "source": [
    "## 4.1 - Preprocessing"
   ]
  },
  {
   "cell_type": "code",
   "execution_count": 1,
   "metadata": {
    "collapsed": false
   },
   "outputs": [
    {
     "name": "stderr",
     "output_type": "stream",
     "text": [
      "Using TensorFlow backend.\n"
     ]
    }
   ],
   "source": [
    "import keras"
   ]
  },
  {
   "cell_type": "code",
   "execution_count": 5,
   "metadata": {
    "collapsed": true
   },
   "outputs": [],
   "source": [
    "# 1 - Load train/dev/test sets of SST\n",
    "PATH_TO_DATA = \"data/\"\n",
    "\n",
    "# TYPE CODE HERE\n",
    "def read_raw(raw):\n",
    "    sentences = []\n",
    "    labels = []\n",
    "    for line in raw:\n",
    "        label, sentence = line.split(\" \", 1)\n",
    "        sentences.append(sentence)\n",
    "        labels.append(int(label))\n",
    "    return sentences, labels\n",
    "f = open(os.path.join(PATH_TO_DATA, 'SST/stsa.fine.train'))\n",
    "sst_train_raw = f.readlines()\n",
    "f.close()\n",
    "f = open(os.path.join(PATH_TO_DATA, 'SST/stsa.fine.dev'))\n",
    "sst_dev_raw = f.readlines()\n",
    "f.close()\n",
    "f = open(os.path.join(PATH_TO_DATA, 'SST/stsa.fine.test.X'))\n",
    "sst_test = f.readlines()\n",
    "f.close()\n",
    "\n",
    "sst_train, label_train = read_raw(sst_train_raw)\n",
    "sst_dev, label_dev = read_raw(sst_dev_raw)"
   ]
  },
  {
   "cell_type": "code",
   "execution_count": 44,
   "metadata": {
    "collapsed": true
   },
   "outputs": [],
   "source": [
    "# 2 - Transform text to integers using keras.preprocessing.text.one_hot function\n",
    "#     https://keras.io/preprocessing/text/\n",
    "\n",
    "# TYPE CODE HERE\n",
    "n_vocab = 5000\n",
    "def one_hot_array(array):\n",
    "    res = []\n",
    "    for sentence in array:\n",
    "        res.append(keras.preprocessing.text.one_hot(sentence, n=n_vocab))\n",
    "    return res\n",
    "\n",
    "x_train = one_hot_array(sst_train)\n",
    "x_dev = one_hot_array(sst_dev)\n",
    "x_test = one_hot_array(sst_test)\n",
    "y_train = keras.utils.np_utils.to_categorical(label_train)\n",
    "y_dev = keras.utils.np_utils.to_categorical(label_dev)"
   ]
  },
  {
   "cell_type": "markdown",
   "metadata": {},
   "source": [
    "**Padding input data**\n",
    "\n",
    "Models in Keras (and elsewhere) take batches of sentences of the same length as input. It is because Deep Learning framework have been designed to handle well Tensors, which are particularly suited for fast computation on the GPU.\n",
    "\n",
    "Since sentences have different sizes, we \"pad\" them. That is, we add dummy \"padding\" tokens so that they all have the same length.\n",
    "\n",
    "The input to a Keras model thus has this size : (batchsize, maxseqlen) where maxseqlen is the maximum length of a sentence in the batch."
   ]
  },
  {
   "cell_type": "code",
   "execution_count": 45,
   "metadata": {
    "collapsed": true
   },
   "outputs": [],
   "source": [
    "# 3 - Pad your sequences using keras.preprocessing.sequence.pad_sequences\n",
    "#     https://keras.io/preprocessing/sequence/\n",
    "\n",
    "# TYPE CODE HERE\n",
    "x_train = keras.preprocessing.sequence.pad_sequences(x_train, maxlen=52)\n",
    "x_dev = keras.preprocessing.sequence.pad_sequences(x_dev, maxlen=52)\n",
    "x_test = keras.preprocessing.sequence.pad_sequences(x_test, maxlen=52)"
   ]
  },
  {
   "cell_type": "markdown",
   "metadata": {},
   "source": [
    "## 4.2 - Design and train your model"
   ]
  },
  {
   "cell_type": "code",
   "execution_count": 66,
   "metadata": {
    "collapsed": true
   },
   "outputs": [],
   "source": [
    "# 4 - Design your encoder + classifier using keras.layers\n",
    "#     In Keras, Torch and other deep learning framework, we create a \"container\" which is the Sequential() module.\n",
    "#     Then we add components to this contained : the lookuptable, the LSTM, the classifier etc.\n",
    "#     All of these components are contained in the Sequential() and are trained together.\n",
    "\n",
    "\n",
    "# ADAPT CODE BELOW\n",
    "from keras.models import Sequential\n",
    "from keras.layers import Embedding, LSTM, Dense, Activation, Conv1D, MaxPooling1D, Flatten, Dropout\n",
    "\n",
    "embed_dim  = 100      # word embedding dimension\n",
    "nhid       = 64      # number of hidden units in the LSTM\n",
    "vocab_size = n_vocab  # size of the vocabulary\n",
    "n_classes  = 5\n",
    "\n",
    "model = Sequential()\n",
    "model.add(Embedding(vocab_size, embed_dim))\n",
    "model.add(LSTM(nhid, dropout=0.2, recurrent_dropout=0.2))\n",
    "model.add(Dense(n_classes, activation='softmax'))"
   ]
  },
  {
   "cell_type": "code",
   "execution_count": 67,
   "metadata": {
    "collapsed": false
   },
   "outputs": [
    {
     "name": "stdout",
     "output_type": "stream",
     "text": [
      "_________________________________________________________________\n",
      "Layer (type)                 Output Shape              Param #   \n",
      "=================================================================\n",
      "embedding_8 (Embedding)      (None, None, 100)         500000    \n",
      "_________________________________________________________________\n",
      "lstm_8 (LSTM)                (None, 64)                42240     \n",
      "_________________________________________________________________\n",
      "dense_8 (Dense)              (None, 5)                 325       \n",
      "=================================================================\n",
      "Total params: 542,565\n",
      "Trainable params: 542,565\n",
      "Non-trainable params: 0\n",
      "_________________________________________________________________\n",
      "None\n"
     ]
    }
   ],
   "source": [
    "# 5 - Define your loss/optimizer/metrics\n",
    "\n",
    "# MODIFY CODE BELOW\n",
    "\n",
    "loss_classif     =  'categorical_crossentropy' # find the right loss for multi-class classification\n",
    "optimizer        =  'adagrad' # find the right optimizer\n",
    "metrics_classif  =  ['accuracy']\n",
    "\n",
    "# Observe how easy (but blackboxed) this is in Keras\n",
    "model.compile(loss=loss_classif,\n",
    "              optimizer=optimizer,\n",
    "              metrics=metrics_classif)\n",
    "print(model.summary())"
   ]
  },
  {
   "cell_type": "code",
   "execution_count": 68,
   "metadata": {
    "collapsed": true
   },
   "outputs": [
    {
     "name": "stdout",
     "output_type": "stream",
     "text": [
      "Train on 8544 samples, validate on 1101 samples\n",
      "Epoch 1/6\n",
      "8544/8544 [==============================] - 53s 6ms/step - loss: 1.5002 - acc: 0.3405 - val_loss: 1.4343 - val_acc: 0.3678\n",
      "Epoch 2/6\n",
      "8544/8544 [==============================] - 50s 6ms/step - loss: 1.2787 - acc: 0.4483 - val_loss: 1.3883 - val_acc: 0.3969\n",
      "Epoch 3/6\n",
      "8544/8544 [==============================] - 51s 6ms/step - loss: 1.1403 - acc: 0.5217 - val_loss: 1.4171 - val_acc: 0.3824\n",
      "Epoch 4/6\n",
      "8544/8544 [==============================] - 50s 6ms/step - loss: 1.0335 - acc: 0.5813 - val_loss: 1.4805 - val_acc: 0.3769\n",
      "Epoch 5/6\n",
      "8544/8544 [==============================] - 175s 21ms/step - loss: 0.9420 - acc: 0.6259 - val_loss: 1.5484 - val_acc: 0.3660\n",
      "Epoch 6/6\n",
      "8544/8544 [==============================] - 47s 5ms/step - loss: 0.8618 - acc: 0.6706 - val_loss: 1.6414 - val_acc: 0.3842\n"
     ]
    }
   ],
   "source": [
    "# 6 - Train your model and find the best hyperparameters for your dev set\n",
    "#     you will be evaluated on the quality of your predictions on the test set\n",
    "\n",
    "# ADAPT CODE BELOW\n",
    "bs = 16 # Reducing the batch size improves slightly the performance\n",
    "n_epochs = 6\n",
    "\n",
    "history = model.fit(x_train, y_train, batch_size=bs, epochs=n_epochs, validation_data=(x_dev, y_dev))"
   ]
  },
  {
   "cell_type": "code",
   "execution_count": 77,
   "metadata": {
    "collapsed": true
   },
   "outputs": [
    {
     "data": {
      "image/png": "[encoded data removed]",
      "text/plain": [
       "<Figure size 864x288 with 2 Axes>"
      ]
     },
     "metadata": {
      "needs_background": "light"
     },
     "output_type": "display_data"
    }
   ],
   "source": [
    "# 7 - Generate your predictions on the test set using model.predict(x_test)\n",
    "#     https://keras.io/models/model/\n",
    "#     Log your predictions in a file (one line = one integer: 0,1,2,3,4)\n",
    "#     Attach the output file \"logreg_lstm_y_test_sst.txt\" to your deliverable.\n",
    "\n",
    "# TYPE CODE HERE\n",
    "y_test_pred = model.predict(x_test)\n",
    "text_to_write = \"\\n\".join(y_test_pred.max(axis=1).astype(str))\n",
    "f = open(\"logreg_lstm_y_test_sst.txt\", \"w\")\n",
    "f.write(text_to_write)\n",
    "f.close()\n",
    "\n",
    "import matplotlib.pyplot as plt\n",
    "plt.figure(figsize=(12,4))\n",
    "plt.subplot(1,2,1)\n",
    "plt.plot(history.history[\"acc\"], label=\"Train accuracy\")\n",
    "plt.plot(history.history[\"val_acc\"], label=\"Dev accuracy\")\n",
    "plt.legend()\n",
    "plt.xlabel(\"Epoch\")\n",
    "plt.ylabel(\"Accuracy\")\n",
    "plt.subplot(1,2,2)\n",
    "plt.plot(history.history[\"loss\"], label=\"Train loss\")\n",
    "plt.plot(history.history[\"val_loss\"], label=\"Dev loss\")\n",
    "plt.legend()\n",
    "plt.xlabel(\"Epoch\")\n",
    "plt.ylabel(\"Loss\")\n",
    "plt.show()"
   ]
  },
  {
   "cell_type": "markdown",
   "metadata": {},
   "source": [
    "## 4.3 -- innovate !"
   ]
  },
  {
   "cell_type": "code",
   "execution_count": 111,
   "metadata": {
    "collapsed": true
   },
   "outputs": [
    {
     "name": "stdout",
     "output_type": "stream",
     "text": [
      "Train on 8544 samples, validate on 1101 samples\n",
      "Epoch 1/20\n",
      "8544/8544 [==============================] - 5s 614us/step - loss: 1.5761 - acc: 0.2699 - val_loss: 1.5703 - val_acc: 0.2616\n",
      "Epoch 2/20\n",
      "8544/8544 [==============================] - 1s 111us/step - loss: 1.5567 - acc: 0.2959 - val_loss: 1.5679 - val_acc: 0.2861\n",
      "Epoch 3/20\n",
      "8544/8544 [==============================] - 1s 113us/step - loss: 1.5431 - acc: 0.3079 - val_loss: 1.5588 - val_acc: 0.3124\n",
      "Epoch 4/20\n",
      "8544/8544 [==============================] - 1s 120us/step - loss: 1.5135 - acc: 0.3343 - val_loss: 1.5360 - val_acc: 0.3406\n",
      "Epoch 5/20\n",
      "8544/8544 [==============================] - 1s 142us/step - loss: 1.4566 - acc: 0.3729 - val_loss: 1.4943 - val_acc: 0.3651\n",
      "Epoch 6/20\n",
      "8544/8544 [==============================] - 1s 129us/step - loss: 1.3857 - acc: 0.4011 - val_loss: 1.4676 - val_acc: 0.3697\n",
      "Epoch 7/20\n",
      "8544/8544 [==============================] - 1s 113us/step - loss: 1.3235 - acc: 0.4311 - val_loss: 1.4550 - val_acc: 0.3688\n",
      "Epoch 8/20\n",
      "8544/8544 [==============================] - 1s 137us/step - loss: 1.2664 - acc: 0.4567 - val_loss: 1.4534 - val_acc: 0.3760\n",
      "Epoch 9/20\n",
      "8544/8544 [==============================] - 1s 128us/step - loss: 1.2171 - acc: 0.4706 - val_loss: 1.4628 - val_acc: 0.3778\n",
      "Epoch 10/20\n",
      "8544/8544 [==============================] - 1s 146us/step - loss: 1.1764 - acc: 0.4912 - val_loss: 1.4741 - val_acc: 0.3778\n",
      "Epoch 11/20\n",
      "8544/8544 [==============================] - 1s 130us/step - loss: 1.1316 - acc: 0.5225 - val_loss: 1.4900 - val_acc: 0.3760\n",
      "Epoch 12/20\n",
      "8544/8544 [==============================] - 1s 129us/step - loss: 1.0984 - acc: 0.5371 - val_loss: 1.5131 - val_acc: 0.3669\n",
      "Epoch 13/20\n",
      "8544/8544 [==============================] - 1s 144us/step - loss: 1.0579 - acc: 0.5581 - val_loss: 1.5295 - val_acc: 0.3742\n",
      "Epoch 14/20\n",
      "8544/8544 [==============================] - 1s 122us/step - loss: 1.0308 - acc: 0.5688 - val_loss: 1.5383 - val_acc: 0.3742\n",
      "Epoch 15/20\n",
      "8544/8544 [==============================] - 1s 125us/step - loss: 1.0024 - acc: 0.5874 - val_loss: 1.5795 - val_acc: 0.3787\n",
      "Epoch 16/20\n",
      "8544/8544 [==============================] - 1s 160us/step - loss: 0.9785 - acc: 0.5976 - val_loss: 1.5900 - val_acc: 0.3569\n",
      "Epoch 17/20\n",
      "8544/8544 [==============================] - 1s 128us/step - loss: 0.9524 - acc: 0.6091 - val_loss: 1.6243 - val_acc: 0.3560\n",
      "Epoch 18/20\n",
      "8544/8544 [==============================] - 1s 131us/step - loss: 0.9286 - acc: 0.6222 - val_loss: 1.6618 - val_acc: 0.3651\n",
      "Epoch 19/20\n",
      "8544/8544 [==============================] - 1s 148us/step - loss: 0.9101 - acc: 0.6300 - val_loss: 1.6691 - val_acc: 0.3515\n",
      "Epoch 20/20\n",
      "8544/8544 [==============================] - 1s 127us/step - loss: 0.8946 - acc: 0.6394 - val_loss: 1.6882 - val_acc: 0.3551\n"
     ]
    }
   ],
   "source": [
    "# 8 - Open question: find a model that is better on your dev set\n",
    "#     (e.g: use a 1D ConvNet, use a better classifier, pretrain your lookup tables ..)\n",
    "#     you will get point if the results on the test set are better: be careful of not overfitting your dev set too much..\n",
    "#     Attach the output file \"XXX_XXX_y_test_sst.txt\" to your deliverable.\n",
    "\n",
    "# TYPE CODE HERE\n",
    "embed_dim  = 32      # word embedding dimension\n",
    "vocab_size = n_vocab  # size of the vocabulary\n",
    "n_classes  = 5\n",
    "\n",
    "model = Sequential()\n",
    "model.add(Embedding(vocab_size, embed_dim, input_length=52))\n",
    "model.add(Conv1D(16, 5, activation='relu'))\n",
    "model.add(MaxPooling1D(2, 2))\n",
    "model.add(Conv1D(16, 3, activation='relu'))\n",
    "model.add(MaxPooling1D(2, 2))\n",
    "model.add(Flatten())\n",
    "model.add(Dropout(0.7))\n",
    "model.add(Dense(n_classes, activation='softmax'))\n",
    "\n",
    "model.compile(loss=loss_classif,\n",
    "              optimizer=optimizer,\n",
    "              metrics=metrics_classif)\n",
    "\n",
    "bs = 64\n",
    "n_epochs = 20\n",
    "\n",
    "history = model.fit(x_train, y_train, batch_size=bs, epochs=n_epochs, validation_data=(x_dev, y_dev))"
   ]
  },
  {
   "cell_type": "code",
   "execution_count": 112,
   "metadata": {},
   "outputs": [],
   "source": [
    "y_test_pred = model.predict(x_test)\n",
    "text_to_write = \"\\n\".join(y_test_pred.max(axis=1).astype(str))\n",
    "f = open(\"logreg_cnn_y_test_sst.txt\", \"w\")\n",
    "f.write(text_to_write)\n",
    "f.close()"
   ]
  }
 ],
 "metadata": {
  "kernelspec": {
   "display_name": "Python 3",
   "language": "python",
   "name": "python3"
  },
  "language_info": {
   "codemirror_mode": {
    "name": "ipython",
    "version": 3
   },
   "file_extension": ".py",
   "mimetype": "text/x-python",
   "name": "python",
   "nbconvert_exporter": "python",
   "pygments_lexer": "ipython3",
   "version": "3.6.7"
  }
 },
 "nbformat": 4,
 "nbformat_minor": 2
}
